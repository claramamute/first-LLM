{
  "nbformat": 4,
  "nbformat_minor": 0,
  "metadata": {
    "colab": {
      "provenance": [],
      "authorship_tag": "ABX9TyPOD8Kni6nFzXjFTzgwZRwX",
      "include_colab_link": true
    },
    "kernelspec": {
      "name": "python3",
      "display_name": "Python 3"
    },
    "language_info": {
      "name": "python"
    }
  },
  "cells": [
    {
      "cell_type": "markdown",
      "metadata": {
        "id": "view-in-github",
        "colab_type": "text"
      },
      "source": [
        "<a href=\"https://colab.research.google.com/github/claramamute/first-LLM/blob/main/chatbot.ipynb\" target=\"_parent\"><img src=\"https://colab.research.google.com/assets/colab-badge.svg\" alt=\"Open In Colab\"/></a>"
      ]
    },
    {
      "cell_type": "markdown",
      "source": [
        "Instalando SDK"
      ],
      "metadata": {
        "id": "mgxoJbsdBlfa"
      }
    },
    {
      "cell_type": "code",
      "execution_count": null,
      "metadata": {
        "id": "0Nt3FRn7BNSg"
      },
      "outputs": [],
      "source": [
        "!pip install -q -U google-generativeai"
      ]
    },
    {
      "cell_type": "markdown",
      "source": [
        "Colocar a API Key (chave única não pode compartilhar)"
      ],
      "metadata": {
        "id": "a3xnDqO6Btiu"
      }
    },
    {
      "cell_type": "code",
      "source": [
        "import google.generativeai as genai\n",
        "\n",
        "from google.colab import userdata\n",
        "api_key = userdata.get('secret_key')\n",
        "\n",
        "genai.configure(api_key=api_key)"
      ],
      "metadata": {
        "id": "beMdY03VCCCP"
      },
      "execution_count": null,
      "outputs": []
    },
    {
      "cell_type": "markdown",
      "source": [
        "Listar modelos disponiveis e parametrizar modelos"
      ],
      "metadata": {
        "id": "4Jf0OopuDUWz"
      }
    },
    {
      "cell_type": "code",
      "source": [
        "for m in genai.list_models():\n",
        "    if 'generateContent' in m.supported_generation_methods:#gerar conteudos\n",
        "      print(m.name)"
      ],
      "metadata": {
        "colab": {
          "base_uri": "https://localhost:8080/",
          "height": 225
        },
        "id": "oxYulK1xDWea",
        "outputId": "5154775c-c20c-4bfd-f59c-2acf43b6e004"
      },
      "execution_count": null,
      "outputs": [
        {
          "output_type": "stream",
          "name": "stdout",
          "text": [
            "models/gemini-1.0-pro\n",
            "models/gemini-1.0-pro-001\n",
            "models/gemini-1.0-pro-latest\n",
            "models/gemini-1.0-pro-vision-latest\n",
            "models/gemini-1.5-flash\n",
            "models/gemini-1.5-flash-001\n",
            "models/gemini-1.5-flash-latest\n",
            "models/gemini-1.5-pro\n",
            "models/gemini-1.5-pro-001\n",
            "models/gemini-1.5-pro-latest\n",
            "models/gemini-pro\n",
            "models/gemini-pro-vision\n"
          ]
        }
      ]
    },
    {
      "cell_type": "code",
      "source": [
        "generation_config = {\n",
        "    \"candidate_count\": 1,\n",
        "    \"temperature\": 0.5,\n",
        "}"
      ],
      "metadata": {
        "id": "V6tb9NXVFNib"
      },
      "execution_count": null,
      "outputs": []
    },
    {
      "cell_type": "code",
      "source": [
        "safety_settings = {\n",
        "    \"HARASSMENT\": \"BLOCK_NONE\",\n",
        "    \"HATE\": \"BLOCK_NONE\",\n",
        "    \"SEXUAL\": \"BLOCK_NONE\",\n",
        "    \"DANGEROUS\": \"BLOCK_NONE\",\n",
        "}"
      ],
      "metadata": {
        "id": "afI6k7LfFzjm"
      },
      "execution_count": null,
      "outputs": []
    },
    {
      "cell_type": "markdown",
      "source": [
        "Inicializar o modelo generative\n"
      ],
      "metadata": {
        "id": "3ozDgneHCZDD"
      }
    },
    {
      "cell_type": "code",
      "source": [
        "model = genai.GenerativeModel(model_name=\"gemini-1.0-pro\",\n",
        "                              generation_config=generation_config,\n",
        "                              safety_settings=safety_settings)"
      ],
      "metadata": {
        "id": "vrHbxqB3Cbb3"
      },
      "execution_count": null,
      "outputs": []
    },
    {
      "cell_type": "markdown",
      "source": [
        "Criar response"
      ],
      "metadata": {
        "id": "TjLw09-tHa6l"
      }
    },
    {
      "cell_type": "code",
      "source": [
        "response = model.generate_content(\"Vamos aprender sobre IA. Me dê sugestões\")\n",
        "print(response.text)"
      ],
      "metadata": {
        "colab": {
          "base_uri": "https://localhost:8080/",
          "height": 798
        },
        "collapsed": true,
        "id": "kBulb3VYHdYd",
        "outputId": "d00d73ac-7baf-47f4-910d-55bea689704d"
      },
      "execution_count": null,
      "outputs": [
        {
          "output_type": "stream",
          "name": "stdout",
          "text": [
            "**Cursos Online:**\n",
            "\n",
            "* **Plataforma Coursera:**\n",
            "    * Aprendizado de Máquina\n",
            "    * Inteligência Artificial\n",
            "    * Ciência de Dados\n",
            "* **Plataforma edX:**\n",
            "    * Inteligência Artificial (MIT)\n",
            "    * Aprendizado de Máquina (Microsoft)\n",
            "    * Ciência de Dados (Harvard)\n",
            "* **Plataforma Udemy:**\n",
            "    * Curso Completo de Inteligência Artificial\n",
            "    * Curso de Aprendizado de Máquina\n",
            "    * Curso de Ciência de Dados\n",
            "\n",
            "**Livros:**\n",
            "\n",
            "* \"Inteligência Artificial: Uma Abordagem Moderna\" por Stuart Russell e Peter Norvig\n",
            "* \"Aprendizado de Máquina\" por Tom Mitchell\n",
            "* \"Ciência de Dados para Negócios\" por Foster Provost e Tom Fawcett\n",
            "* \"Inteligência Artificial para Leigos\" por John Paul Mueller e Luca Massaron\n",
            "* \"Aprendizado Profundo\" por Ian Goodfellow, Yoshua Bengio e Aaron Courville\n",
            "\n",
            "**Blogs e Websites:**\n",
            "\n",
            "* **AI Weekly:** Notícias e atualizações sobre IA\n",
            "* **MIT Technology Review:** Artigos sobre IA, tecnologia e inovação\n",
            "* **KDnuggets:** Blog sobre ciência de dados e aprendizado de máquina\n",
            "* **Towards Data Science:** Plataforma de compartilhamento de conhecimento sobre IA e ciência de dados\n",
            "* **OpenAI:** Organização de pesquisa sem fins lucrativos focada em IA\n",
            "\n",
            "**Eventos e Conferências:**\n",
            "\n",
            "* **Conferência Internacional Conjunta sobre Inteligência Artificial (IJCAI)**\n",
            "* **Conferência sobre Sistemas de Processamento de Informação Neural (NeurIPS)**\n",
            "* **Conferência Internacional sobre Aprendizado de Máquina (ICML)**\n",
            "* **Conferência sobre Visão por Computador e Reconhecimento de Padrões (CVPR)**\n",
            "* **Conferência sobre Ciência de Dados (KDD)**\n",
            "\n",
            "**Comunidades Online:**\n",
            "\n",
            "* **Subreddit de Inteligência Artificial:** /r/artificial\n",
            "* **Grupo do LinkedIn de Inteligência Artificial:** LinkedIn AI Group\n",
            "* **Fórum do Stack Overflow sobre IA:** Stack Overflow AI\n",
            "* **Comunidade do Discord para IA:** Discord AI Communities\n"
          ]
        }
      ]
    },
    {
      "cell_type": "code",
      "source": [
        "#Método para ser um chat e passa o parâmetro lista histórico\n",
        "chat = model.start_chat(history=[])\n"
      ],
      "metadata": {
        "id": "-eOx5oGSH_NO"
      },
      "execution_count": null,
      "outputs": []
    },
    {
      "cell_type": "code",
      "source": [
        "prompt = input(\"Faça sua pergunta: \")\n",
        "\n",
        "while (prompt!=\"fim\"):\n",
        "  response = chat.send_message(prompt) #O retorno será uma resposta de mensagem do modelo para a nossa pergunta\n",
        "  print(\"Resposta:\", response.text, \"\\n\") #Aparece na tela a resposta em texto\n",
        "  prompt = input(\"Faça sua pergunta: \") #Continua o chat\n"
      ],
      "metadata": {
        "colab": {
          "base_uri": "https://localhost:8080/",
          "height": 1000
        },
        "id": "89fLjN-UIaka",
        "outputId": "56d21c3b-6eaf-4f27-ba40-03252f58bfd0"
      },
      "execution_count": null,
      "outputs": [
        {
          "name": "stdout",
          "output_type": "stream",
          "text": [
            "Faça sua pergunta: Como fazer drift de carro?\n",
            "Resposta: **Pré-requisitos:**\n",
            "\n",
            "* Carro com tração traseira ou tração integral\n",
            "* Freio de mão funcional\n",
            "* Espaço aberto e seguro para praticar\n",
            "* Habilidades básicas de direção\n",
            "\n",
            "**Passos:**\n",
            "\n",
            "**1. Encontre um local seguro:**\n",
            "\n",
            "* Escolha uma área ampla e vazia, como um estacionamento ou pista de corrida fechada.\n",
            "* Certifique-se de que não haja obstáculos ou outros veículos por perto.\n",
            "\n",
            "**2. Prepare o carro:**\n",
            "\n",
            "* Desligue o controle de estabilidade (ESC) ou controle de tração (TCS), se possível.\n",
            "* Aqueça os pneus dirigindo por alguns minutos.\n",
            "* Abaixe a pressão dos pneus dianteiros ligeiramente para melhorar a aderência.\n",
            "\n",
            "**3. Posicione o carro:**\n",
            "\n",
            "* Acelere e entre em uma curva em alta velocidade.\n",
            "* Solte o acelerador e puxe o freio de mão rapidamente.\n",
            "\n",
            "**4. Controle o volante:**\n",
            "\n",
            "* Gire o volante na direção oposta à curva.\n",
            "* Contra-esterce rapidamente para manter o controle do carro.\n",
            "\n",
            "**5. Modere o acelerador:**\n",
            "\n",
            "* Aplique o acelerador com cuidado para manter o equilíbrio do carro.\n",
            "* Se o carro começar a girar demais, solte o acelerador e contra-esterce.\n",
            "\n",
            "**6. Solte o freio de mão:**\n",
            "\n",
            "* Quando o carro estiver na direção desejada, solte o freio de mão gradualmente.\n",
            "* Continue contra-esterçando para manter o controle.\n",
            "\n",
            "**7. Pratique:**\n",
            "\n",
            "* O drift requer prática e paciência.\n",
            "* Comece com velocidades mais baixas e curvas mais amplas e gradualmente aumente a dificuldade.\n",
            "\n",
            "**Dicas:**\n",
            "\n",
            "* Use um carro leve com baixo centro de gravidade.\n",
            "* Pneus largos com boa aderência são essenciais.\n",
            "* Aprenda a sentir o equilíbrio do carro e a reagir rapidamente.\n",
            "* Não tente fazer drift em vias públicas ou em condições perigosas.\n",
            "* Sempre use equipamentos de segurança, como capacete e cinto de segurança.\n",
            "\n",
            "**Observações:**\n",
            "\n",
            "* O drift é uma técnica avançada de direção que deve ser praticada apenas em um ambiente seguro e controlado.\n",
            "* O drift pode danificar o carro e os pneus.\n",
            "* É ilegal fazer drift em vias públicas na maioria dos países. \n",
            "\n",
            "Faça sua pergunta: fim\n"
          ]
        }
      ]
    }
  ]
}